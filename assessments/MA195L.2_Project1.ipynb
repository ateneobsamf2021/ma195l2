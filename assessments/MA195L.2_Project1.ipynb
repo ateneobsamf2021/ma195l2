{
 "cells": [
  {
   "cell_type": "markdown",
   "metadata": {},
   "source": [
    "# MA 195L.2 Project 1: VaR for Currencies and Bonds\n",
    "\n",
    "## Version 3: May 1, 2021\n",
    "\n",
    "### Instructor: Jakov Ivan S. Dumbrique (jdumbrique@ateneo.edu)\n",
    "\n",
    "MA 195L.2: Introduction to Financial Mathematics II \\\n",
    "Second Semester, S.Y. 2020-2021 \\\n",
    "Ateneo de Manila University"
   ]
  },
  {
   "cell_type": "markdown",
   "metadata": {},
   "source": [
    "# Submission Mechanics\n",
    "\n",
    "1. Upload the complete Jupyter notebook to the appropriate submission bin in Canvas on or before **May 17, 2021 (Monday) 11:59 PM**.\n",
    "2. Make sure that your notebook is organized, well-documented and clearly-annotated.\n",
    "3. Your notebook should show all the code required for Parts 1, 2, and 3. The answers for Part 2 should be displayed in your Notebook. For questions requiring some analysis/explanation (Part 3), make sure to write your detailed paragraphs (and display your graphs) in [markdown cells](https://www.tutorialspoint.com/jupyter/jupyter_notebook_markdown_cells.htm). \n",
    "4. The filename for your Jupyter notebook should follow this format: `ma195l2_[lastnameofTeamMember1]_[lastnameofTeamMember2]_Project1.ipynb`\n",
    "5. Include comments (using the # symbol) in the body of your code so that it will be easier for the instructor to understand your code. For your helper functions, write a descriptive [docstring](https://www.programiz.com/python-programming/docstrings) similar to the ones below. \n",
    "6. Make sure to indicate in a markdown cell at the start of your notebook your names, as well as the names of the people you have asked help from and the online websites you have used in solving the problem. Here is an example:\n",
    "\n",
    "Submitted by: Jakov Ivan S. Dumbrique\n",
    "\n",
    "People I asked help from:\n",
    "\n",
    "1. Elon Musk\n",
    "2. Jeff Bezos\n",
    "3. Warren Buffett\n",
    "\n",
    "Websites I used for completing this Project:\n",
    "1. https://numpy.org/doc/stable/reference/generated/numpy.cov.html\n",
    "\n",
    "\n"
   ]
  },
  {
   "cell_type": "markdown",
   "metadata": {},
   "source": [
    "Project 1 has three parts:\n",
    "# Part 1: Functional Implementation\n",
    "In Part 1, you are tasked to create these functions:\n",
    "1. `undiversified_VaR_delta_normal_fx()`\n",
    "        - Returns the undiversified d-day p% VaR of a portfolio of currencies using Delta Normal Approach\n",
    "        - this should have the option to implement EWMA in estimating volatilities of the exchange-rate returns\n",
    "        - uses the N-day logarithmic returns in calculating N-day VaR \n",
    "2. `diversified_VaR_delta_normal_fx()`\n",
    "        - Returns the diversified d-day p% VaR of a portfolio of currencies using Delta Normal Approach\n",
    "        - when you want to use EWMA for an N-asset portfolio, this function will only calculate the EWMA for a two-asset portfolio\n",
    "        - uses the N-day logarithmic returns in calculating N-day VaR \n",
    "3. `VaR_hs_fx()`\n",
    "        - Returns the d-day p% VaR of a portfolio of currencies using Historical Simulation Approach\n",
    "        - implements the normal HS method (which simulates scenarios on the return of each individual currency), not the \"alternative\" HS method (which runs scenarios on the returns of the entire portfolio)\n",
    "4. `VaR_brw_fx()`\n",
    "        - Returns the d-day p% VaR of a portfolio of currencies using Boudoukh-Richardson-Whitelaw (BRW)  Approach\n",
    "        - similar to `VaR_hs_fx()`, this function implements the normal method (which simulates scenarios on the return of each individual currency), not the \"alternative\" method (which runs scenarios on the returns of the entire portfolio)\n",
    "5. `VaR_cfm_bonds()`\n",
    "        - Returns the d-day p% VaR of a portfolio of bonds using Cash Flow Mapping (CFM)\n",
    "6. `undiversified_VaR_delta_normal_bonds()`\n",
    "        - Returns the undiversified d-day p% VaR of a portfolio of bonds using Delta Normal Approach\n",
    "7. `diversified_VaR_delta_normal_bonds()`\n",
    "        - Returns the diversified d-day p% VaR of a portfolio of bonds using Delta Normal Approach\n",
    "8. `VaR_hs_bonds()`\n",
    "        - Returns the d-day p% VaR of a portfolio of bonds using Historical Simulation Approach\n",
    "\n",
    "The specifications of these functions are up to the team's discretion, as long as you document them in their corresponding docstrings. You may create helper functions you can call for reusing computations."
   ]
  },
  {
   "cell_type": "markdown",
   "metadata": {},
   "source": [
    "# Part 2: Validation\n",
    "In Part 2, you will be using the functions you created in Part 1 to answer the following questions. The historical data for these items can be found in the `data` folder of our [class Github repository](https://github.com/ateneobsamf2021/ma195l2). The historical data for currencies and for bonds cover the trading period from April 22, 2011 to April 23, 2021 and from TBA to TBA, respectively."
   ]
  },
  {
   "cell_type": "markdown",
   "metadata": {},
   "source": [
    "Assume that today is April 23, 2021. You are a portfolio risk manager who is assigned to analyze the market risk associated to the following portfolios of currencies and bonds:\n",
    "\n",
    "<table>\n",
    "    <tr>\n",
    "        <td>\n",
    "            Portfolio\n",
    "        </td>\n",
    "        <td>\n",
    "            USD\n",
    "        </td>\n",
    "        <td>\n",
    "            EUR\n",
    "        </td>\n",
    "        <td>\n",
    "            JPY\n",
    "        </td>\n",
    "        <td>\n",
    "            GBP\n",
    "        </td>\n",
    "        <td>\n",
    "            CHF\n",
    "        </td>  \n",
    "    </tr>\n",
    "        <tr>\n",
    "        <td>\n",
    "            Position\n",
    "        </td>\n",
    "        <td>\n",
    "            long\n",
    "        </td>\n",
    "        <td>\n",
    "            short\n",
    "        </td>\n",
    "        <td>\n",
    "            long\n",
    "        </td>\n",
    "        <td>\n",
    "            short\n",
    "        </td>\n",
    "        <td>\n",
    "            long\n",
    "        </td>\n",
    "    </tr>\n",
    "        <tr>\n",
    "        <td>\n",
    "            A\n",
    "        </td>\n",
    "        <td>\n",
    "            10,362\n",
    "        </td>\n",
    "        <td>\n",
    "            17,135\n",
    "        </td>\n",
    "        <td>\n",
    "            2,235,292\n",
    "        </td>\n",
    "        <td>\n",
    "            14,937\n",
    "        </td>\n",
    "        <td>\n",
    "            9,465\n",
    "        </td>\n",
    "    </tr>\n",
    "        <tr>\n",
    "        <td>\n",
    "            B\n",
    "        </td>\n",
    "        <td>\n",
    "            -\n",
    "        </td>\n",
    "        <td>\n",
    "            17,135\n",
    "        </td>\n",
    "        <td>\n",
    "            2,235,292\n",
    "        </td>\n",
    "        <td>\n",
    "            -\n",
    "        </td>\n",
    "        <td>\n",
    "            -\n",
    "        </td>  \n",
    "    </tr>\n",
    "</table>"
   ]
  },
  {
   "cell_type": "markdown",
   "metadata": {},
   "source": [
    "## Question A\n",
    "\n",
    "Suppose market risk metrics are requested for **Portfolio A**.\n",
    "\n",
    "1. Calculate the undiversified and diversified one-day 99% VaR for the portfolio using the delta-normal approach. \n",
    "2. Use the historical simulation approach to compute the portfolio's one-day 99% VaR.\n",
    "3. Use the BRW approach with a decay factor of $\\lambda$= 0.85 to calculate the portfolio's one-day 99% VaR."
   ]
  },
  {
   "cell_type": "code",
   "execution_count": null,
   "metadata": {},
   "outputs": [],
   "source": []
  },
  {
   "cell_type": "markdown",
   "metadata": {},
   "source": [
    "## Question B\n",
    "\n",
    "We now look at the value-at-risk metrics for **Portfolio B**.\n",
    "\n",
    "Assume that the five-day volatility of each currency and the covariance of their returns follow exponentially weighted moving average models with the following decay parameters:\n",
    "\n",
    "<table>\n",
    "    <tr>\n",
    "        <td>\n",
    "           Data\n",
    "        </td>\n",
    "        <td>\n",
    "            EUR\n",
    "        </td>\n",
    "        <td>\n",
    "            JPY\n",
    "        </td>\n",
    "        <td>\n",
    "            Covariance\n",
    "        </td>\n",
    "    </tr>\n",
    "        <tr>\n",
    "        <td>\n",
    "            Decay Parameter\n",
    "        </td>\n",
    "        <td>\n",
    "            0.87\n",
    "        </td>\n",
    "        <td>\n",
    "            0.90\n",
    "        </td>\n",
    "        <td>\n",
    "            0.95\n",
    "        </td>\n",
    "    </tr>\n",
    "</table>\n",
    "\n",
    "Determine the undiversified and diversified five-day 95\\% VaR for the portfolio. What is the benefit of diversification?"
   ]
  },
  {
   "cell_type": "code",
   "execution_count": null,
   "metadata": {},
   "outputs": [],
   "source": []
  },
  {
   "cell_type": "markdown",
   "metadata": {},
   "source": [
    "## Question C - Bonds\n"
   ]
  },
  {
   "cell_type": "code",
   "execution_count": null,
   "metadata": {},
   "outputs": [],
   "source": []
  },
  {
   "cell_type": "markdown",
   "metadata": {},
   "source": [
    "## Question D - Bonds"
   ]
  },
  {
   "cell_type": "code",
   "execution_count": null,
   "metadata": {},
   "outputs": [],
   "source": []
  },
  {
   "cell_type": "markdown",
   "metadata": {},
   "source": [
    "# Part 3: Analysis\n",
    "\n",
    "For Part 3, you will analyze the effect of changing various parameters to the resulting Value-at-Risk of a portfolio."
   ]
  },
  {
   "cell_type": "markdown",
   "metadata": {},
   "source": [
    "## Question A on Currencies\n",
    "\n",
    "Consider **Portfolio A**. Explore, analyze, **and** discuss the effect of changing the following parameters in the resulting VaR of **each of the three methods** (Delta-Normal, HS, BRW):\n",
    "1. confidence level \n",
    "2. value of N for N-day VaR\n",
    "3. time window of historical data used to calculate VaR\n",
    "4. decay parameter for BRW Approach\n",
    "\n",
    "Based on your sensitivity analysis, which of the three methods would best capture the market risk of the portfolio? Justify your choice. "
   ]
  },
  {
   "cell_type": "code",
   "execution_count": null,
   "metadata": {},
   "outputs": [],
   "source": []
  },
  {
   "cell_type": "markdown",
   "metadata": {},
   "source": [
    "## Question B on Bonds\n",
    "TBA"
   ]
  },
  {
   "cell_type": "code",
   "execution_count": null,
   "metadata": {},
   "outputs": [],
   "source": []
  }
 ],
 "metadata": {
  "kernelspec": {
   "display_name": "Python 3",
   "language": "python",
   "name": "python3"
  },
  "language_info": {
   "codemirror_mode": {
    "name": "ipython",
    "version": 3
   },
   "file_extension": ".py",
   "mimetype": "text/x-python",
   "name": "python",
   "nbconvert_exporter": "python",
   "pygments_lexer": "ipython3",
   "version": "3.8.2"
  }
 },
 "nbformat": 4,
 "nbformat_minor": 4
}
