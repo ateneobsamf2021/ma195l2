{
 "cells": [
  {
   "cell_type": "markdown",
   "metadata": {},
   "source": [
    "# MA 195L.2 Project 2: Forward Rate Agreements\n",
    "\n",
    "## Version 1: May 19, 2021\n",
    "\n",
    "### Instructor: Jakov Ivan S. Dumbrique (jdumbrique@ateneo.edu)\n",
    "\n",
    "MA 195L.2: Introduction to Financial Mathematics II \\\n",
    "Second Semester, S.Y. 2020-2021 \\\n",
    "Ateneo de Manila University"
   ]
  },
  {
   "cell_type": "markdown",
   "metadata": {},
   "source": [
    "# Submission Mechanics\n",
    "\n",
    "1. Upload the complete Jupyter notebook to the appropriate submission bin in Canvas on or before **June 5, 2021 (Saturday) 11:59 PM**.\n",
    "2. Make sure that your notebook is organized, well-documented and clearly-annotated.\n",
    "3. Your notebook should show all the code required for Parts 1, 2, and 3. The answers for Part 2 should be displayed in your Notebook. For questions requiring some analysis/explanation (Part 3), make sure to write your detailed paragraphs (and display your graphs) in [markdown cells](https://www.tutorialspoint.com/jupyter/jupyter_notebook_markdown_cells.htm). \n",
    "4. The filename for your Jupyter notebook should follow this format: `ma195l2_[lastnameofTeamMember1]_[lastnameofTeamMember2]_Project2.ipynb`\n",
    "5. Include comments (using the # symbol) in the body of your code so that it will be easier for the instructor to understand your code. For your helper functions, write a descriptive [docstring](https://www.programiz.com/python-programming/docstrings) similar to the ones below. \n",
    "6. Make sure to indicate in a markdown cell at the start of your notebook your names, as well as the names of the people you have asked help from and the online websites you have used in solving the problem. Here is an example:\n",
    "\n",
    "Submitted by: Jakov Ivan S. Dumbrique\n",
    "\n",
    "People I asked help from:\n",
    "\n",
    "1. Elon Musk\n",
    "2. Jeff Bezos\n",
    "3. Warren Buffett\n",
    "\n",
    "Websites I used for completing this Project:\n",
    "1. https://numpy.org/doc/stable/reference/generated/numpy.cov.html"
   ]
  },
  {
   "cell_type": "markdown",
   "metadata": {},
   "source": [
    "# Part 1: Functional Implementation\n",
    "\n",
    "The specifications of the functions are specified in the succeeding code blocks. You may create helper functions you can call for reusing computations."
   ]
  },
  {
   "cell_type": "code",
   "execution_count": 2,
   "metadata": {},
   "outputs": [],
   "source": [
    "def forward_rate(\n",
    "    t, T_1, T_2, r_1, r_2, m \n",
    "):\n",
    "    \"\"\"Returns the forward rate observed at time t (0<=t<T_1) applicable to the period [T_1, T_2] \n",
    "    (where T_1 < T_2 and their values are determined at time 0)\n",
    "    \n",
    "       This function assumes that the zero rates r_1 and r_2 and the forward rate \n",
    "       have the same compounding frequency. \n",
    "    \n",
    "    Parameters\n",
    "    ----------\n",
    "    t (in years)\n",
    "    T_1: start of forward period as observed at time t=0 (in years)\n",
    "    T_2: end of forward period as observed at time t=0 (in years)\n",
    "    r_1: zero rate observed at time t with tenor T_1-t years\n",
    "    r_2: zero rate observed at time t with tenor T_2-t years\n",
    "    m: compounding frequency of r_1, r_2 and the forward rate \n",
    "        assumes value in this list: ['simple', 'exp', 1, 2, 4, 12, 52, 365]\n",
    "    \n",
    "    Returns\n",
    "    -------\n",
    "    float (4 decimal places)\n",
    "        forward rate observed at time t (0<=t<T_1) applicable to the period [T_1, T_2]\n",
    "    \"\"\""
   ]
  },
  {
   "cell_type": "code",
   "execution_count": 3,
   "metadata": {},
   "outputs": [],
   "source": [
    "def fra_value(\n",
    "    t, T_1, T_2, r_fixed, r_float, r_t, m, L, payer \n",
    "):\n",
    "    \"\"\"Returns the value of the forward rate agreement (FRA) at time t (0<t<=T_1) to the specified payer\n",
    "    \n",
    "        at time t=T_1, the function returns the present value (at time t=T_1) of the FRA's cash settlement \n",
    "        from the perspective of the specified payer\n",
    "        \n",
    "        This function assumes that the interest rates r_fixed, r_float, and r_t \n",
    "        have the same compounding frequency. \n",
    "    \n",
    "    \n",
    "    Parameters\n",
    "    ----------\n",
    "    t (in years) \n",
    "    T_1: start of forward period as observed at time t=0 (in years)\n",
    "    T_2: end of forward period as observed at time t=0 (in years)\n",
    "    r_fixed: fixed interest rate of the FRA determined at time t=0\n",
    "    r_float: floating interest rate of the FRA determined at time t\n",
    "    r_t: zero rate observed at time t with tenor T_2-t years\n",
    "    m: compounding frequency of r_1, r_2 and the forward rate \n",
    "        assumes value in this list: ['simple', 'exp', 1, 2, 4, 12, 52, 365]\n",
    "    L: notional principal amount of the FRA\n",
    "    payer: we are getting the value of the FRA from the perspective of the payer\n",
    "        assumes value in this list: ['fixed', 'float']\n",
    "    \n",
    "    Returns\n",
    "    -------\n",
    "    float (2 decimal places)\n",
    "        value of the forward rate agreement (FRA) at time t (0<t<=T_1) to the specified payer\n",
    "    \"\"\""
   ]
  },
  {
   "cell_type": "markdown",
   "metadata": {},
   "source": [
    "# Part 2: Validation\n",
    "In Part 2, you will be using the functions you created in Part 1 to answer the following questions."
   ]
  },
  {
   "cell_type": "code",
   "execution_count": null,
   "metadata": {},
   "outputs": [],
   "source": []
  }
 ],
 "metadata": {
  "kernelspec": {
   "display_name": "Python 3",
   "language": "python",
   "name": "python3"
  },
  "language_info": {
   "codemirror_mode": {
    "name": "ipython",
    "version": 3
   },
   "file_extension": ".py",
   "mimetype": "text/x-python",
   "name": "python",
   "nbconvert_exporter": "python",
   "pygments_lexer": "ipython3",
   "version": "3.8.2"
  }
 },
 "nbformat": 4,
 "nbformat_minor": 4
}
