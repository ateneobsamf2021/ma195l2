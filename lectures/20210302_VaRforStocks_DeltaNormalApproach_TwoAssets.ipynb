{
 "cells": [
  {
   "cell_type": "markdown",
   "metadata": {},
   "source": [
    "# Value-at-Risk for Stocks: Delta-Normal Approach\n",
    "\n",
    "### Lecture Notes by Jakov Ivan S. Dumbrique (jdumbrique@ateneo.edu)\n",
    "\n",
    "MA 195L.2: Introduction to Financial Mathematics II \\\n",
    "Second Semester, S.Y. 2020-2021 \\\n",
    "Ateneo de Manila University"
   ]
  },
  {
   "cell_type": "code",
   "execution_count": 1,
   "metadata": {},
   "outputs": [],
   "source": [
    "import numpy as np # Numerical Computing\n",
    "import pandas as pd # Data wrangling\n",
    "from statistics import NormalDist # statistical analysis"
   ]
  },
  {
   "cell_type": "code",
   "execution_count": 2,
   "metadata": {},
   "outputs": [],
   "source": [
    "def get_return(df):\n",
    "    return np.log(df[\"close\"]/df[\"previous\"])\n",
    "\n",
    "def one_day_alpha_percent_VaR_single_stock_delta_normal(df, N, alpha):\n",
    "    \n",
    "    \"\"\"Returns the one-day 100(alpha)% VaR of a single stock using Delta Normal Approach.\n",
    "    \n",
    "    Parameters\n",
    "    ----------\n",
    "    df : pandas.DataFrame\n",
    "        has two columns: (1) dt [str] and (2) closing price [float]\n",
    "        assumes the dates are arranged from newest to oldest, and the date today is the date on the first row  \n",
    "    N : int\n",
    "        number of shares for the sole stock\n",
    "    alpha : int\n",
    "        the value to be used in calculting the 100(alpha)% VaR (e.g. 0.99, 0.95)\n",
    "    \n",
    "    Returns\n",
    "    -------\n",
    "    float (2 decimal places)\n",
    "        one-day 100(alpha)% VaR of a single stock using Delta Normal Approach\n",
    "    \"\"\"\n",
    "\n",
    "    S_0 = df.loc[0, \"close\"]\n",
    "    \n",
    "    # creates a new column that shifts the prices d values up (or -d values down)\n",
    "    df[\"previous\"] = df[\"close\"].shift(-1)\n",
    "    # get the daily returns\n",
    "    df[\"return\"] = df.apply(get_return, axis=1)\n",
    "    \n",
    "    # standard deviation of your stock returns\n",
    "    sigma = df[\"return\"].std()\n",
    "    \n",
    "    quantile = NormalDist().inv_cdf(alpha)\n",
    "    var = N * S_0 * sigma * quantile\n",
    "    \n",
    "    return round(var, 2)\n",
    "    "
   ]
  },
  {
   "cell_type": "markdown",
   "metadata": {},
   "source": [
    "## VaR for Stocks: Two-Asset Portfolio"
   ]
  },
  {
   "cell_type": "markdown",
   "metadata": {},
   "source": [
    "Consider a portfolio containing $N_1$ and $N_2$ shares of two stocks with current price $S_{1,0}$ and $S_{2,0}$. Let $\\Delta P$ denote the change in portfolio value, and $\\mathbf{\\alpha}$ be the vector of asset weights\n",
    "\n",
    "\\begin{equation}\n",
    "\\mathbf{\\alpha}=\\left[\\begin{array}{cc}\n",
    "\t\t\t\t\tN_1 S_{1,0} & N_2 S_{2,0}\n",
    "\t\t\t\t\t\\end{array}\\right]\n",
    "\\end{equation}\n",
    "\n",
    "We assume that $\\mathbf{R} = \\left[\\begin{array}{c}\n",
    "\t\t\t\t\tR_1 \\\\ R_2\n",
    "\t\t\t\t\t\\end{array}\\right]$ has a bivariate normal distribution with mean $\\mathbf{0}$ and covariance matrix $\\mathbf{\\Sigma}$.\n",
    "\n",
    "It follows from the property of the bivariate normal distribution that $\\Delta P\\sim N(0,\\sigma_P^2)$, where\n",
    "\n",
    "\\begin{equation}\n",
    "\\sigma_P^2 = \\mathbf{\\alpha}^T\\mathbf{\\Sigma\\alpha}.\n",
    "\\end{equation}\n",
    "\n",
    "The **99\\% diversified portfolio VaR** is given by\n",
    "\\begin{equation}\n",
    "|V_d| =\\sigma_P\\Phi^{-1}(0.99).\n",
    "\\end{equation}"
   ]
  },
  {
   "cell_type": "markdown",
   "metadata": {},
   "source": [
    "## Exercise 1:\n",
    "Today is February 23, 2018. You are a portfolio risk manager who is assigned to analyze the market risk of a portfolio of 700 PLDT (TEL) shares and 300 Ayala Corporation (AC) shares. What is the portfolio's one-day 95% diversified VaR using the delta-normal approach? "
   ]
  },
  {
   "cell_type": "code",
   "execution_count": 4,
   "metadata": {},
   "outputs": [],
   "source": [
    "TEL_df = pd.read_csv('../data/TEL_2018.csv')\n",
    "AC_df = pd.read_csv('../data/AC_2018.csv')"
   ]
  },
  {
   "cell_type": "code",
   "execution_count": 5,
   "metadata": {},
   "outputs": [
    {
     "data": {
      "text/html": [
       "<div>\n",
       "<style scoped>\n",
       "    .dataframe tbody tr th:only-of-type {\n",
       "        vertical-align: middle;\n",
       "    }\n",
       "\n",
       "    .dataframe tbody tr th {\n",
       "        vertical-align: top;\n",
       "    }\n",
       "\n",
       "    .dataframe thead th {\n",
       "        text-align: right;\n",
       "    }\n",
       "</style>\n",
       "<table border=\"1\" class=\"dataframe\">\n",
       "  <thead>\n",
       "    <tr style=\"text-align: right;\">\n",
       "      <th></th>\n",
       "      <th>dt</th>\n",
       "      <th>close</th>\n",
       "    </tr>\n",
       "  </thead>\n",
       "  <tbody>\n",
       "    <tr>\n",
       "      <th>0</th>\n",
       "      <td>2/23/18</td>\n",
       "      <td>1488.74</td>\n",
       "    </tr>\n",
       "    <tr>\n",
       "      <th>1</th>\n",
       "      <td>2/22/18</td>\n",
       "      <td>1510.86</td>\n",
       "    </tr>\n",
       "    <tr>\n",
       "      <th>2</th>\n",
       "      <td>2/21/18</td>\n",
       "      <td>1513.72</td>\n",
       "    </tr>\n",
       "    <tr>\n",
       "      <th>3</th>\n",
       "      <td>2/20/18</td>\n",
       "      <td>1536.65</td>\n",
       "    </tr>\n",
       "    <tr>\n",
       "      <th>4</th>\n",
       "      <td>2/16/18</td>\n",
       "      <td>1476.37</td>\n",
       "    </tr>\n",
       "    <tr>\n",
       "      <th>...</th>\n",
       "      <td>...</td>\n",
       "      <td>...</td>\n",
       "    </tr>\n",
       "    <tr>\n",
       "      <th>243</th>\n",
       "      <td>3/2/17</td>\n",
       "      <td>1430.29</td>\n",
       "    </tr>\n",
       "    <tr>\n",
       "      <th>244</th>\n",
       "      <td>3/1/17</td>\n",
       "      <td>1408.94</td>\n",
       "    </tr>\n",
       "    <tr>\n",
       "      <th>245</th>\n",
       "      <td>2/28/17</td>\n",
       "      <td>1394.35</td>\n",
       "    </tr>\n",
       "    <tr>\n",
       "      <th>246</th>\n",
       "      <td>2/27/17</td>\n",
       "      <td>1374.93</td>\n",
       "    </tr>\n",
       "    <tr>\n",
       "      <th>247</th>\n",
       "      <td>2/24/17</td>\n",
       "      <td>1367.68</td>\n",
       "    </tr>\n",
       "  </tbody>\n",
       "</table>\n",
       "<p>248 rows × 2 columns</p>\n",
       "</div>"
      ],
      "text/plain": [
       "          dt    close\n",
       "0    2/23/18  1488.74\n",
       "1    2/22/18  1510.86\n",
       "2    2/21/18  1513.72\n",
       "3    2/20/18  1536.65\n",
       "4    2/16/18  1476.37\n",
       "..       ...      ...\n",
       "243   3/2/17  1430.29\n",
       "244   3/1/17  1408.94\n",
       "245  2/28/17  1394.35\n",
       "246  2/27/17  1374.93\n",
       "247  2/24/17  1367.68\n",
       "\n",
       "[248 rows x 2 columns]"
      ]
     },
     "execution_count": 5,
     "metadata": {},
     "output_type": "execute_result"
    }
   ],
   "source": [
    "TEL_df"
   ]
  },
  {
   "cell_type": "code",
   "execution_count": 6,
   "metadata": {},
   "outputs": [
    {
     "data": {
      "text/html": [
       "<div>\n",
       "<style scoped>\n",
       "    .dataframe tbody tr th:only-of-type {\n",
       "        vertical-align: middle;\n",
       "    }\n",
       "\n",
       "    .dataframe tbody tr th {\n",
       "        vertical-align: top;\n",
       "    }\n",
       "\n",
       "    .dataframe thead th {\n",
       "        text-align: right;\n",
       "    }\n",
       "</style>\n",
       "<table border=\"1\" class=\"dataframe\">\n",
       "  <thead>\n",
       "    <tr style=\"text-align: right;\">\n",
       "      <th></th>\n",
       "      <th>dt</th>\n",
       "      <th>close</th>\n",
       "    </tr>\n",
       "  </thead>\n",
       "  <tbody>\n",
       "    <tr>\n",
       "      <th>0</th>\n",
       "      <td>2/23/18</td>\n",
       "      <td>926.04</td>\n",
       "    </tr>\n",
       "    <tr>\n",
       "      <th>1</th>\n",
       "      <td>2/22/18</td>\n",
       "      <td>926.77</td>\n",
       "    </tr>\n",
       "    <tr>\n",
       "      <th>2</th>\n",
       "      <td>2/21/18</td>\n",
       "      <td>929.44</td>\n",
       "    </tr>\n",
       "    <tr>\n",
       "      <th>3</th>\n",
       "      <td>2/20/18</td>\n",
       "      <td>933.04</td>\n",
       "    </tr>\n",
       "    <tr>\n",
       "      <th>4</th>\n",
       "      <td>2/16/18</td>\n",
       "      <td>934.30</td>\n",
       "    </tr>\n",
       "    <tr>\n",
       "      <th>...</th>\n",
       "      <td>...</td>\n",
       "      <td>...</td>\n",
       "    </tr>\n",
       "    <tr>\n",
       "      <th>243</th>\n",
       "      <td>3/2/17</td>\n",
       "      <td>779.22</td>\n",
       "    </tr>\n",
       "    <tr>\n",
       "      <th>244</th>\n",
       "      <td>3/1/17</td>\n",
       "      <td>778.47</td>\n",
       "    </tr>\n",
       "    <tr>\n",
       "      <th>245</th>\n",
       "      <td>2/28/17</td>\n",
       "      <td>775.90</td>\n",
       "    </tr>\n",
       "    <tr>\n",
       "      <th>246</th>\n",
       "      <td>2/27/17</td>\n",
       "      <td>772.54</td>\n",
       "    </tr>\n",
       "    <tr>\n",
       "      <th>247</th>\n",
       "      <td>2/24/17</td>\n",
       "      <td>770.96</td>\n",
       "    </tr>\n",
       "  </tbody>\n",
       "</table>\n",
       "<p>248 rows × 2 columns</p>\n",
       "</div>"
      ],
      "text/plain": [
       "          dt   close\n",
       "0    2/23/18  926.04\n",
       "1    2/22/18  926.77\n",
       "2    2/21/18  929.44\n",
       "3    2/20/18  933.04\n",
       "4    2/16/18  934.30\n",
       "..       ...     ...\n",
       "243   3/2/17  779.22\n",
       "244   3/1/17  778.47\n",
       "245  2/28/17  775.90\n",
       "246  2/27/17  772.54\n",
       "247  2/24/17  770.96\n",
       "\n",
       "[248 rows x 2 columns]"
      ]
     },
     "execution_count": 6,
     "metadata": {},
     "output_type": "execute_result"
    }
   ],
   "source": [
    "AC_df"
   ]
  },
  {
   "cell_type": "code",
   "execution_count": 9,
   "metadata": {},
   "outputs": [],
   "source": [
    "N1 = 700\n",
    "N2 = 300\n",
    "S1 = TEL_df.loc[0, \"close\"]\n",
    "S2 = AC_df.loc[0, \"close\"]"
   ]
  },
  {
   "cell_type": "markdown",
   "metadata": {},
   "source": [
    "### Step 1: Constructing the vector of asset weights $\\mathbf{\\alpha}$\n",
    "\\begin{equation}\n",
    "\\mathbf{\\alpha}=\\left[\\begin{array}{cc}\n",
    "\t\t\t\t\tN_1 S_{1,0} & N_2 S_{2,0}\n",
    "\t\t\t\t\t\\end{array}\\right]\n",
    "\\end{equation}"
   ]
  },
  {
   "cell_type": "code",
   "execution_count": 23,
   "metadata": {},
   "outputs": [
    {
     "data": {
      "text/plain": [
       "array([1042118.,  277812.])"
      ]
     },
     "execution_count": 23,
     "metadata": {},
     "output_type": "execute_result"
    }
   ],
   "source": [
    "alpha_vector = [N1*S1, N2*S2]\n",
    "alpha_vector = np.array(alpha_vector)\n",
    "alpha_vector"
   ]
  },
  {
   "cell_type": "markdown",
   "metadata": {},
   "source": [
    "### Step 2: Calculating the covariance matrix $\\mathbf{\\Sigma}$ of the Return vector $\\mathbf{R}$"
   ]
  },
  {
   "cell_type": "markdown",
   "metadata": {},
   "source": [
    "#### Step 2.1: Getting the historical return vectors"
   ]
  },
  {
   "cell_type": "code",
   "execution_count": 13,
   "metadata": {},
   "outputs": [],
   "source": [
    "# creates a new column that shifts the prices d values up (or -d values down)\n",
    "TEL_df[\"previous\"] = TEL_df[\"close\"].shift(-1)\n",
    "AC_df[\"previous\"] = AC_df[\"close\"].shift(-1)\n",
    "\n",
    "R1_vector = TEL_df.apply(get_return, axis=1)\n",
    "R2_vector = AC_df.apply(get_return, axis=1)"
   ]
  },
  {
   "cell_type": "code",
   "execution_count": 15,
   "metadata": {
    "scrolled": true
   },
   "outputs": [
    {
     "data": {
      "text/plain": [
       "0     -0.000788\n",
       "1     -0.002877\n",
       "2     -0.003866\n",
       "3     -0.001350\n",
       "4     -0.001935\n",
       "         ...   \n",
       "243    0.000963\n",
       "244    0.003307\n",
       "245    0.004340\n",
       "246    0.002047\n",
       "247         NaN\n",
       "Length: 248, dtype: float64"
      ]
     },
     "execution_count": 15,
     "metadata": {},
     "output_type": "execute_result"
    }
   ],
   "source": [
    "R2_vector"
   ]
  },
  {
   "cell_type": "markdown",
   "metadata": {},
   "source": [
    "#### Step 2.2: Calculating the covariance matrix $\\mathbf{\\Sigma}$"
   ]
  },
  {
   "cell_type": "code",
   "execution_count": 32,
   "metadata": {},
   "outputs": [
    {
     "data": {
      "text/plain": [
       "array([[3.85307884e-04, 1.23496261e-05],\n",
       "       [1.23496261e-05, 3.06084441e-04]])"
      ]
     },
     "execution_count": 32,
     "metadata": {},
     "output_type": "execute_result"
    }
   ],
   "source": [
    "cov_matrix = np.cov([R1_vector[:-1], R2_vector[:-1]])\n",
    "cov_matrix"
   ]
  },
  {
   "cell_type": "markdown",
   "metadata": {},
   "source": [
    "### Step 3: Computing for the standard deviation $\\sigma_P$ of $\\Delta P$\n",
    "\\begin{equation}\n",
    "\\sigma_P^2 = \\mathbf{\\alpha}^T\\mathbf{\\Sigma\\alpha}.\n",
    "\\end{equation}"
   ]
  },
  {
   "cell_type": "code",
   "execution_count": 33,
   "metadata": {},
   "outputs": [
    {
     "data": {
      "text/plain": [
       "21194.866931340945"
      ]
     },
     "execution_count": 33,
     "metadata": {},
     "output_type": "execute_result"
    }
   ],
   "source": [
    "sigma = np.sqrt(np.dot(alpha_vector.T, np.dot(cov_matrix, alpha_vector)))\n",
    "sigma"
   ]
  },
  {
   "cell_type": "markdown",
   "metadata": {},
   "source": [
    "### Step 4: Calculating for the Value-at-Risk"
   ]
  },
  {
   "cell_type": "code",
   "execution_count": 34,
   "metadata": {},
   "outputs": [
    {
     "data": {
      "text/plain": [
       "34862.45"
      ]
     },
     "execution_count": 34,
     "metadata": {},
     "output_type": "execute_result"
    }
   ],
   "source": [
    "alpha = 0.95\n",
    "var = sigma * NormalDist().inv_cdf(alpha)\n",
    "round(var, 2)"
   ]
  }
 ],
 "metadata": {
  "kernelspec": {
   "display_name": "Python 3",
   "language": "python",
   "name": "python3"
  },
  "language_info": {
   "codemirror_mode": {
    "name": "ipython",
    "version": 3
   },
   "file_extension": ".py",
   "mimetype": "text/x-python",
   "name": "python",
   "nbconvert_exporter": "python",
   "pygments_lexer": "ipython3",
   "version": "3.8.5"
  }
 },
 "nbformat": 4,
 "nbformat_minor": 5
}
