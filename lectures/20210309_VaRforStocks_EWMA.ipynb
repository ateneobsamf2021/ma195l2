{
 "cells": [
  {
   "cell_type": "markdown",
   "metadata": {},
   "source": [
    "# Value-at-Risk for Stocks: Delta-Normal Approach, EWMA\n",
    "\n",
    "### Lecture Notes by Jakov Ivan S. Dumbrique (jdumbrique@ateneo.edu)\n",
    "\n",
    "MA 195L.2: Introduction to Financial Mathematics II \\\n",
    "Second Semester, S.Y. 2020-2021 \\\n",
    "Ateneo de Manila University"
   ]
  },
  {
   "cell_type": "code",
   "execution_count": 1,
   "metadata": {},
   "outputs": [],
   "source": [
    "import numpy as np # Numerical Computing\n",
    "import pandas as pd # Data wrangling\n",
    "import matplotlib.pyplot as plt # Plotting\n",
    "from scipy.stats import norm # statistical analysis\n",
    "from statistics import NormalDist # statistical analysis\n",
    "\n",
    "%matplotlib inline"
   ]
  },
  {
   "cell_type": "markdown",
   "metadata": {},
   "source": [
    "# EWMA for a single-asset portfolio\n",
    "The one-day 99\\% VaR on the portfolio is given by\n",
    "\t\t\\begin{equation}\n",
    "\t\t\\text{VaR}_{0.99} = |V| = NS_0\\sigma_n\\Phi^{-1}(0.99).\n",
    "\t\t\\end{equation}\n",
    " The variance estimate $\\sigma_n^2$ from the EWMA can be used as the variance of the random variable $R$, and so we assume that $R\\sim N(0,\\sigma_n^2)$.\n",
    " \\begin{equation}\n",
    "\t\t\\sigma_n^2 \\approx \\sum_{i=1}^{n-1}(1-\\lambda)\\lambda^{i-1}R_{n-i}^2,\n",
    "\\end{equation}\n",
    "\tgiving us $\\alpha_i = (1-\\lambda)\\lambda^{i-1}$, $i=1,2,\\dots,n-1$.\n",
    "    \n",
    "$\\alpha_i = \\alpha_{j}= (1-\\lambda)\\lambda^{j}$, $j=0,1,2,\\dots,n-2$\n",
    "\n",
    "## Question:\n",
    "Today is February 23, 2018. You are a portfolio risk manager who is assigned to analyze the market risk of a portfolio of 700 PLDT (TEL) shares. Assume that the one-day volatility of the stock follows an exponentially-weighted moving average model with parameter  $\\lambda$=0.65\n",
    " . Determine the portfolio's one-day 99% VaR.\n",
    " \n"
   ]
  },
  {
   "cell_type": "code",
   "execution_count": 2,
   "metadata": {},
   "outputs": [],
   "source": [
    "def get_return(df):\n",
    "    return np.log(df[\"close\"]/df[\"previous\"])"
   ]
  },
  {
   "cell_type": "code",
   "execution_count": 3,
   "metadata": {},
   "outputs": [],
   "source": [
    "def get_weights_df(df, d, ewma_par):\n",
    "    \"\"\" \n",
    "    appends weights series to df\n",
    "    \"\"\"\n",
    "    count_returns = len(df[\"close\"])-d\n",
    "    weight_lst = [(1-ewma_par)*(ewma_par**j) for j in range(count_returns)]\n",
    "    df[\"weight\"] = pd.Series(weight_lst)\n",
    "    return df"
   ]
  },
  {
   "cell_type": "code",
   "execution_count": 4,
   "metadata": {},
   "outputs": [],
   "source": [
    "def d_day_alpha_percent_VaR_single_stock_delta_normal(df, d, N, alpha, ewma_par=None):\n",
    "    \n",
    "    \"\"\"Returns the d-day 100(alpha)% VaR of a single stock using Delta Normal Approach.\n",
    "    \n",
    "    Parameters\n",
    "    ----------\n",
    "    df : pandas.DataFrame\n",
    "        has two columns: (1) dt [str] and (2) closing price [float]\n",
    "        assumes the dates are arranged from newest to oldest, and the date today is the date on the first row  \n",
    "    d : int\n",
    "        value of d for the d-day VaR\n",
    "    N : int\n",
    "        number of shares for the sole stock\n",
    "    alpha : int\n",
    "        the value to be used in calculting the 100(alpha)% VaR (e.g. 0.99, 0.95)\n",
    "    ewma_par :float\n",
    "        the value of the lambda parameter in an EWMA model for the volatility of the stock\n",
    "        assumes the value is in the range (0,1)\n",
    "    \n",
    "    Returns\n",
    "    -------\n",
    "    float (2 decimal places)\n",
    "        d-day 100(alpha)% VaR of a single stock using Delta Normal Approach\n",
    "    \"\"\"\n",
    "\n",
    "    S_0 = df.loc[0, \"close\"]\n",
    "    \n",
    "    # creates a new column that shifts the prices d values up (or -d values down)\n",
    "    df[\"previous\"] = df[\"close\"].shift(-d)\n",
    "    # get the daily returns\n",
    "    df[\"return\"] = df.apply(get_return, axis=1)\n",
    "    \n",
    "    #Case 1: if I will use EWMA\n",
    "    if ewma_par: \n",
    "        df = get_weights_df(df, d, ewma_par)\n",
    "        sigma = np.sqrt(np.nansum((df[\"return\"]**2) * df[\"weight\"]))\n",
    "    #Case 2: I'll use the normal VaR\n",
    "    else:   \n",
    "        # standard deviation of your stock returns\n",
    "        sigma = df[\"return\"].std()\n",
    "    \n",
    "    quantile = NormalDist().inv_cdf(alpha)\n",
    "    var = N * S_0 * sigma * quantile\n",
    "    \n",
    "    return round(var, 2)\n",
    "    "
   ]
  },
  {
   "cell_type": "code",
   "execution_count": 5,
   "metadata": {
    "scrolled": true
   },
   "outputs": [
    {
     "data": {
      "text/plain": [
       "41212.93"
      ]
     },
     "execution_count": 5,
     "metadata": {},
     "output_type": "execute_result"
    }
   ],
   "source": [
    "# read the data\n",
    "TEL_df = pd.read_csv(\"../data/TEL_2018.csv\") \n",
    "\n",
    "d_day_alpha_percent_VaR_single_stock_delta_normal(df=TEL_df, d=1, N=700, alpha=0.99, ewma_par=0.65)"
   ]
  },
  {
   "cell_type": "code",
   "execution_count": null,
   "metadata": {},
   "outputs": [],
   "source": []
  }
 ],
 "metadata": {
  "kernelspec": {
   "display_name": "Python 3",
   "language": "python",
   "name": "python3"
  },
  "language_info": {
   "codemirror_mode": {
    "name": "ipython",
    "version": 3
   },
   "file_extension": ".py",
   "mimetype": "text/x-python",
   "name": "python",
   "nbconvert_exporter": "python",
   "pygments_lexer": "ipython3",
   "version": "3.8.5"
  }
 },
 "nbformat": 4,
 "nbformat_minor": 5
}
