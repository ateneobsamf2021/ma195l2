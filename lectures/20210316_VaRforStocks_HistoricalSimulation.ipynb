{
 "cells": [
  {
   "cell_type": "markdown",
   "metadata": {},
   "source": [
    "# Value-at-Risk for Stocks: Historical Simulation\n",
    "\n",
    "### Lecture Notes by Jakov Ivan S. Dumbrique (jdumbrique@ateneo.edu)\n",
    "\n",
    "MA 195L.2: Introduction to Financial Mathematics II \\\n",
    "Second Semester, S.Y. 2020-2021 \\\n",
    "Ateneo de Manila University"
   ]
  },
  {
   "cell_type": "code",
   "execution_count": 1,
   "metadata": {},
   "outputs": [],
   "source": [
    "import numpy as np # Numerical Computing\n",
    "import pandas as pd # Data wrangling\n",
    "import matplotlib.pyplot as plt # Plotting\n",
    "from scipy.stats import norm # statistical analysis\n",
    "from statistics import NormalDist # statistical analysis\n",
    "\n",
    "%matplotlib inline"
   ]
  },
  {
   "cell_type": "markdown",
   "metadata": {},
   "source": [
    "\n",
    "## Question on Single-Asset Portfolio:\n",
    "Today is February 23, 2018. You are a portfolio risk manager who is assigned to analyze the market risk of a portfolio of 700 PLDT (TEL) shares. Determine the portfolio's one-day 99% VaR using historical simulation approach.\n",
    " \n"
   ]
  },
  {
   "cell_type": "code",
   "execution_count": 2,
   "metadata": {},
   "outputs": [],
   "source": [
    "def get_return(df, d):\n",
    "    \"\"\"\n",
    "    df is the original df\n",
    "    \n",
    "    appends returns series to df\n",
    "    \"\"\"\n",
    "    df[\"previous\"] = df[\"close\"].shift(-d)\n",
    "    df[\"return\"] = np.log(df[\"close\"]/df[\"previous\"])\n",
    "    return df "
   ]
  },
  {
   "cell_type": "code",
   "execution_count": 3,
   "metadata": {},
   "outputs": [],
   "source": [
    "def get_change_in_value_df(df, N):\n",
    "    \"\"\"\n",
    "    df is the output of get_returns_df \n",
    "    \n",
    "    appends change in portfolio value series to df\n",
    "    \"\"\"\n",
    "    S0 = df.loc[0, \"close\"]\n",
    "    df[\"change_in_value\"] = N * S0 * df[\"return\"]\n",
    "    return df"
   ]
  },
  {
   "cell_type": "code",
   "execution_count": 4,
   "metadata": {},
   "outputs": [],
   "source": [
    "def get_kth_percentile_discrete(df, d, p):\n",
    "    \"\"\"\n",
    "    this returns the (1-p/100)th percentile of the ordered array of historical changes in portfolio values\n",
    "    \"\"\"\n",
    "    M = len(df[\"change_in_value\"])-d\n",
    "    alpha = p/100\n",
    "    k = int(np.floor((1-alpha)*M))\n",
    "    var = abs(df[\"change_in_value\"].nsmallest(k).values[-1])\n",
    "    \n",
    "    return var"
   ]
  },
  {
   "cell_type": "code",
   "execution_count": 5,
   "metadata": {},
   "outputs": [],
   "source": [
    "def d_day_p_percent_VaR_single_stock_historical(\n",
    "    df, N, d, p\n",
    "):\n",
    "    \"\"\"Returns the d-day p% VaR of a single stock using Historical Simulation Approach.\n",
    "    \n",
    "    Parameters\n",
    "    ----------\n",
    "    df : pandas.DataFrame\n",
    "        has two columns: (1) dt [str] and (2) closing price [float]\n",
    "        assumes the dates are arranged from newest to oldest, and the date today is the date on the first row  \n",
    "    N : int\n",
    "        number of shares for the sole stock\n",
    "    d : int\n",
    "        the value to be used in calculating the d-day VaR (e.g. 1-day, 5-day)\n",
    "    p : float\n",
    "        the value to be used in calculting the p% VaR (e.g. 99, 95, 97.5)\n",
    "    \n",
    "    Returns\n",
    "    -------\n",
    "    float (2 decimal places)\n",
    "        d-day p% VaR of a single stock using Historical Simulation Approach\n",
    "    \"\"\"\n",
    "    \n",
    "    # step 1: generate your historical returns\n",
    "    df = get_return(df, d)\n",
    "    # Step 2: get your historical changes in portfolio values\n",
    "    df = get_change_in_value_df(df, N)\n",
    "    # Step 3: get the (1-p/100)th percentile of the ordered array of historical changes in portfolio values\n",
    "    var = get_kth_percentile_discrete(df, d, p)\n",
    "    \n",
    "    return round(var, 2)"
   ]
  },
  {
   "cell_type": "code",
   "execution_count": 14,
   "metadata": {
    "scrolled": true
   },
   "outputs": [],
   "source": [
    "TEL_df = pd.read_csv(\"../data/TEL_2018.csv\")"
   ]
  },
  {
   "cell_type": "code",
   "execution_count": 7,
   "metadata": {},
   "outputs": [
    {
     "data": {
      "text/plain": [
       "60730.66"
      ]
     },
     "execution_count": 7,
     "metadata": {},
     "output_type": "execute_result"
    }
   ],
   "source": [
    "d_day_p_percent_VaR_single_stock_historical(df=TEL_df, N=700, d=1, p=99)"
   ]
  },
  {
   "cell_type": "markdown",
   "metadata": {},
   "source": [
    "## Question on N-Asset Portfolio:\n",
    "Today is February 23, 2018. You are a portfolio risk manager who is assigned to analyze the market risk of a portfolio of 700 PLDT (TEL) shares, 300 Ayala Corporation (AC) shares, and 500 URC shares. What is the portfolio's one-day 99% VaR using historical approach?"
   ]
  },
  {
   "cell_type": "code",
   "execution_count": 22,
   "metadata": {},
   "outputs": [],
   "source": [
    "TEL_df = pd.read_csv(\"../data/TEL_2018.csv\")\n",
    "AC_df = pd.read_csv(\"../data/AC_2018.csv\")\n",
    "URC_df = pd.read_csv(\"../data/URC_2018.csv\")"
   ]
  },
  {
   "cell_type": "code",
   "execution_count": 11,
   "metadata": {},
   "outputs": [
    {
     "data": {
      "text/html": [
       "<div>\n",
       "<style scoped>\n",
       "    .dataframe tbody tr th:only-of-type {\n",
       "        vertical-align: middle;\n",
       "    }\n",
       "\n",
       "    .dataframe tbody tr th {\n",
       "        vertical-align: top;\n",
       "    }\n",
       "\n",
       "    .dataframe thead th {\n",
       "        text-align: right;\n",
       "    }\n",
       "</style>\n",
       "<table border=\"1\" class=\"dataframe\">\n",
       "  <thead>\n",
       "    <tr style=\"text-align: right;\">\n",
       "      <th></th>\n",
       "      <th>dt</th>\n",
       "      <th>close</th>\n",
       "    </tr>\n",
       "  </thead>\n",
       "  <tbody>\n",
       "    <tr>\n",
       "      <th>0</th>\n",
       "      <td>2/23/18</td>\n",
       "      <td>1488.74</td>\n",
       "    </tr>\n",
       "    <tr>\n",
       "      <th>1</th>\n",
       "      <td>2/22/18</td>\n",
       "      <td>1510.86</td>\n",
       "    </tr>\n",
       "    <tr>\n",
       "      <th>2</th>\n",
       "      <td>2/21/18</td>\n",
       "      <td>1513.72</td>\n",
       "    </tr>\n",
       "    <tr>\n",
       "      <th>3</th>\n",
       "      <td>2/20/18</td>\n",
       "      <td>1536.65</td>\n",
       "    </tr>\n",
       "    <tr>\n",
       "      <th>4</th>\n",
       "      <td>2/16/18</td>\n",
       "      <td>1476.37</td>\n",
       "    </tr>\n",
       "    <tr>\n",
       "      <th>...</th>\n",
       "      <td>...</td>\n",
       "      <td>...</td>\n",
       "    </tr>\n",
       "    <tr>\n",
       "      <th>243</th>\n",
       "      <td>3/2/17</td>\n",
       "      <td>1430.29</td>\n",
       "    </tr>\n",
       "    <tr>\n",
       "      <th>244</th>\n",
       "      <td>3/1/17</td>\n",
       "      <td>1408.94</td>\n",
       "    </tr>\n",
       "    <tr>\n",
       "      <th>245</th>\n",
       "      <td>2/28/17</td>\n",
       "      <td>1394.35</td>\n",
       "    </tr>\n",
       "    <tr>\n",
       "      <th>246</th>\n",
       "      <td>2/27/17</td>\n",
       "      <td>1374.93</td>\n",
       "    </tr>\n",
       "    <tr>\n",
       "      <th>247</th>\n",
       "      <td>2/24/17</td>\n",
       "      <td>1367.68</td>\n",
       "    </tr>\n",
       "  </tbody>\n",
       "</table>\n",
       "<p>248 rows × 2 columns</p>\n",
       "</div>"
      ],
      "text/plain": [
       "          dt    close\n",
       "0    2/23/18  1488.74\n",
       "1    2/22/18  1510.86\n",
       "2    2/21/18  1513.72\n",
       "3    2/20/18  1536.65\n",
       "4    2/16/18  1476.37\n",
       "..       ...      ...\n",
       "243   3/2/17  1430.29\n",
       "244   3/1/17  1408.94\n",
       "245  2/28/17  1394.35\n",
       "246  2/27/17  1374.93\n",
       "247  2/24/17  1367.68\n",
       "\n",
       "[248 rows x 2 columns]"
      ]
     },
     "execution_count": 11,
     "metadata": {},
     "output_type": "execute_result"
    }
   ],
   "source": [
    "TEL_df[[\"dt\", \"close\"]]"
   ]
  },
  {
   "cell_type": "code",
   "execution_count": 19,
   "metadata": {},
   "outputs": [],
   "source": [
    "def get_portfolio_value_df(df_lst, N_lst):\n",
    "    \n",
    "    portval_df = pd.DataFrame(0, index=df_lst[0].index, columns=[\"close\"])\n",
    "    \n",
    "    for df, N in zip(df_lst, N_lst):\n",
    "        stock_value_series = df[\"close\"] * N\n",
    "        portval_df[\"close\"] = portval_df[\"close\"] + stock_value_series  \n",
    "    \n",
    "    return portval_df "
   ]
  },
  {
   "cell_type": "code",
   "execution_count": 23,
   "metadata": {},
   "outputs": [
    {
     "data": {
      "text/html": [
       "<div>\n",
       "<style scoped>\n",
       "    .dataframe tbody tr th:only-of-type {\n",
       "        vertical-align: middle;\n",
       "    }\n",
       "\n",
       "    .dataframe tbody tr th {\n",
       "        vertical-align: top;\n",
       "    }\n",
       "\n",
       "    .dataframe thead th {\n",
       "        text-align: right;\n",
       "    }\n",
       "</style>\n",
       "<table border=\"1\" class=\"dataframe\">\n",
       "  <thead>\n",
       "    <tr style=\"text-align: right;\">\n",
       "      <th></th>\n",
       "      <th>close</th>\n",
       "    </tr>\n",
       "  </thead>\n",
       "  <tbody>\n",
       "    <tr>\n",
       "      <th>0</th>\n",
       "      <td>1389705.0</td>\n",
       "    </tr>\n",
       "    <tr>\n",
       "      <th>1</th>\n",
       "      <td>1405463.0</td>\n",
       "    </tr>\n",
       "    <tr>\n",
       "      <th>2</th>\n",
       "      <td>1412221.0</td>\n",
       "    </tr>\n",
       "    <tr>\n",
       "      <th>3</th>\n",
       "      <td>1428132.0</td>\n",
       "    </tr>\n",
       "    <tr>\n",
       "      <th>4</th>\n",
       "      <td>1387394.0</td>\n",
       "    </tr>\n",
       "    <tr>\n",
       "      <th>...</th>\n",
       "      <td>...</td>\n",
       "    </tr>\n",
       "    <tr>\n",
       "      <th>243</th>\n",
       "      <td>1315199.0</td>\n",
       "    </tr>\n",
       "    <tr>\n",
       "      <th>244</th>\n",
       "      <td>1299949.0</td>\n",
       "    </tr>\n",
       "    <tr>\n",
       "      <th>245</th>\n",
       "      <td>1288700.0</td>\n",
       "    </tr>\n",
       "    <tr>\n",
       "      <th>246</th>\n",
       "      <td>1273753.0</td>\n",
       "    </tr>\n",
       "    <tr>\n",
       "      <th>247</th>\n",
       "      <td>1268044.0</td>\n",
       "    </tr>\n",
       "  </tbody>\n",
       "</table>\n",
       "<p>248 rows × 1 columns</p>\n",
       "</div>"
      ],
      "text/plain": [
       "         close\n",
       "0    1389705.0\n",
       "1    1405463.0\n",
       "2    1412221.0\n",
       "3    1428132.0\n",
       "4    1387394.0\n",
       "..         ...\n",
       "243  1315199.0\n",
       "244  1299949.0\n",
       "245  1288700.0\n",
       "246  1273753.0\n",
       "247  1268044.0\n",
       "\n",
       "[248 rows x 1 columns]"
      ]
     },
     "execution_count": 23,
     "metadata": {},
     "output_type": "execute_result"
    }
   ],
   "source": [
    "# TEST\n",
    "\n",
    "# get_portfolio_value_df(df_lst=[TEL_df], N_lst=[1000])\n",
    "\n",
    "#N = 1000\n",
    "#TEL_df[\"close\"]*N\n",
    "\n",
    "get_portfolio_value_df(df_lst=[TEL_df, AC_df, URC_df], N_lst=[700,300,500])"
   ]
  },
  {
   "cell_type": "markdown",
   "metadata": {},
   "source": [
    "$\\Delta P_j = P_0 e^{R_j^P} - P_0 = P_0 (e^{R_j^P} -1)$"
   ]
  },
  {
   "cell_type": "code",
   "execution_count": 25,
   "metadata": {},
   "outputs": [],
   "source": [
    "def get_change_in_value_df_alternative(df):\n",
    "    \"\"\"\n",
    "    df is the output of get_returns_df \n",
    "    \n",
    "    appends change in value series (using alternative approach/exponential function) to df\n",
    "    \"\"\"\n",
    "    P0 = df.loc[0, \"close\"]\n",
    "    df[\"change_in_value\"] = P0 * (np.exp(df[\"return\"]) - 1)\n",
    "    \n",
    "    return df"
   ]
  },
  {
   "cell_type": "code",
   "execution_count": 28,
   "metadata": {},
   "outputs": [],
   "source": [
    "def d_day_p_percent_VaR_portfolio_historical_alternative(\n",
    "    df_lst, N_lst, d, p\n",
    "):\n",
    "    \"\"\"Returns the d-day p% VaR of a portfolio using the Alternative Historical Simulation Approach.\n",
    "    \n",
    "    Parameters\n",
    "    ----------\n",
    "    df_lst : list of pandas.DataFrame\n",
    "        has two columns: (1) dt [str] and (2) closing price [float]\n",
    "        assumes the dates are arranged from newest to oldest, and the date today is the date on the first row\n",
    "        asssumes that all dfs have the same ordered list of dates\n",
    "        there is one df per stock in the portfolio\n",
    "    N_lst : list (of int)\n",
    "        N_i = number of shares for ith stock (order should be the same as the order in df_lst)\n",
    "    d : int\n",
    "        the value to be used in calculating the d-day VaR (e.g. 1-day, 5-day)\n",
    "    p : float\n",
    "        the value to be used in calculting the p% VaR (e.g. 99, 95, 97.5)\n",
    "    \n",
    "    Returns\n",
    "    -------\n",
    "    float (2 decimal places)\n",
    "        d-day p% VaR of a portfolio using the Alternative Historical Simulation Approach\n",
    "    \"\"\"\n",
    "    \n",
    "    # Step 1: generate the list of portfolio values\n",
    "    df = get_portfolio_value_df(df_lst, N_lst)\n",
    "    # step 2: get the returns of this list of portfolio values\n",
    "    df = get_return(df, d)\n",
    "    # Step 3: get the list of M scenarios for your change in portfolio value\n",
    "    df = get_change_in_value_df_alternative(df)\n",
    "    # Step 4: calculate the VaR by getting the (1-p/100)th percentile of the ordered list of M scenarios for your change in portfolio value\n",
    "    var = get_kth_percentile_discrete(df, d, p)\n",
    "                                            \n",
    "    return round(var, 2)"
   ]
  },
  {
   "cell_type": "code",
   "execution_count": 29,
   "metadata": {},
   "outputs": [
    {
     "data": {
      "text/plain": [
       "58888.51"
      ]
     },
     "execution_count": 29,
     "metadata": {},
     "output_type": "execute_result"
    }
   ],
   "source": [
    "d_day_p_percent_VaR_portfolio_historical_alternative(\n",
    "    df_lst=[TEL_df, AC_df, URC_df], \n",
    "    N_lst=[700,300,500], \n",
    "    d=1, \n",
    "    p=99\n",
    ")"
   ]
  },
  {
   "cell_type": "code",
   "execution_count": null,
   "metadata": {},
   "outputs": [],
   "source": []
  }
 ],
 "metadata": {
  "kernelspec": {
   "display_name": "Python 3",
   "language": "python",
   "name": "python3"
  },
  "language_info": {
   "codemirror_mode": {
    "name": "ipython",
    "version": 3
   },
   "file_extension": ".py",
   "mimetype": "text/x-python",
   "name": "python",
   "nbconvert_exporter": "python",
   "pygments_lexer": "ipython3",
   "version": "3.8.5"
  }
 },
 "nbformat": 4,
 "nbformat_minor": 5
}
