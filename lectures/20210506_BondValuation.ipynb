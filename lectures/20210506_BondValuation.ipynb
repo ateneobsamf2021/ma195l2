{
 "cells": [
  {
   "cell_type": "markdown",
   "metadata": {},
   "source": [
    "# Bond Valuation\n",
    "\n",
    "### Lecture Notes by Jakov Ivan S. Dumbrique (jdumbrique@ateneo.edu)\n",
    "\n",
    "MA 195L.2: Introduction to Financial Mathematics II \\\n",
    "Second Semester, S.Y. 2020-2021 \\\n",
    "Ateneo de Manila University"
   ]
  },
  {
   "cell_type": "code",
   "execution_count": 2,
   "metadata": {},
   "outputs": [],
   "source": [
    "import numpy as np\n",
    "import pandas as pd\n",
    "import datetime as dt"
   ]
  },
  {
   "cell_type": "code",
   "execution_count": 3,
   "metadata": {},
   "outputs": [],
   "source": [
    "def get_tenor(\n",
    "    start_date, end_date\n",
    "    ):\n",
    "    \"\"\"\n",
    "    Calculates the tenor in years from start_date to end_date following Actual/360 day count convention\n",
    "    assumes all input dates are datetime.datetime objects\n",
    "    \"\"\"\n",
    "    \n",
    "    day_count = (end_date - start_date).days\n",
    "    tenor = day_count / 360.0\n",
    "    \n",
    "    return tenor"
   ]
  },
  {
   "cell_type": "code",
   "execution_count": 11,
   "metadata": {},
   "outputs": [],
   "source": [
    "def get_bond_price_using_yield(\n",
    "    today, mat, FV, coupon_rate, coupon_freq, y \n",
    "    ):\n",
    "    \"\"\"\n",
    "    Calculates the (clean) price of a COUPON-BEARING (plain-vanilla) bond [not zero-coupon bond] today\n",
    "    using the given CONTINUOUSLY COMPOUNDED market yield\n",
    "    \n",
    "    Inputs:\n",
    "    today = date today in '%Y-%m-%d' format\n",
    "    mat =n maturity date in '%Y-%m-%d' format\n",
    "    Face Value or par value, FV in units of currency\n",
    "    (annual) coupon_rate in decimal\n",
    "    coupon_freq = number of times coupon interest is paid in one year\n",
    "    market yield, y in decimal, continuously compounded\n",
    "    \"\"\"\n",
    "    coupon = (coupon_rate * FV) / coupon_freq\n",
    "    \n",
    "    today = dt.datetime.strptime(today, '%Y-%m-%d')\n",
    "    mat_date = dt.datetime.strptime(mat, '%Y-%m-%d') \n",
    "    \n",
    "    # create list of coupon dates\n",
    "    # currently only works for annual coupon payments\n",
    "    coupon_dates = []\n",
    "    coupon_date = mat_date\n",
    "    \n",
    "    while today < coupon_date:\n",
    "        if coupon_freq==1:# annual\n",
    "            coupon_dates.append(coupon_date)\n",
    "            coupon_date = coupon_date.replace(year=coupon_date.year - 1) \n",
    "    \n",
    "    # arrange coupon_dates in increasing order of dates\n",
    "    coupon_dates = coupon_dates[::-1]\n",
    "    \n",
    "    pmt_df = pd.DataFrame({'coupon_dates':coupon_dates})\n",
    "    \n",
    "    pmt_df['t'] = [get_tenor(today, t) for t in pmt_df['coupon_dates']]\n",
    "     \n",
    "    return pmt_df"
   ]
  },
  {
   "cell_type": "code",
   "execution_count": 12,
   "metadata": {},
   "outputs": [
    {
     "data": {
      "text/html": [
       "<div>\n",
       "<style scoped>\n",
       "    .dataframe tbody tr th:only-of-type {\n",
       "        vertical-align: middle;\n",
       "    }\n",
       "\n",
       "    .dataframe tbody tr th {\n",
       "        vertical-align: top;\n",
       "    }\n",
       "\n",
       "    .dataframe thead th {\n",
       "        text-align: right;\n",
       "    }\n",
       "</style>\n",
       "<table border=\"1\" class=\"dataframe\">\n",
       "  <thead>\n",
       "    <tr style=\"text-align: right;\">\n",
       "      <th></th>\n",
       "      <th>coupon_dates</th>\n",
       "      <th>t</th>\n",
       "    </tr>\n",
       "  </thead>\n",
       "  <tbody>\n",
       "    <tr>\n",
       "      <th>0</th>\n",
       "      <td>2021-12-31</td>\n",
       "      <td>0.669444</td>\n",
       "    </tr>\n",
       "    <tr>\n",
       "      <th>1</th>\n",
       "      <td>2022-12-31</td>\n",
       "      <td>1.683333</td>\n",
       "    </tr>\n",
       "    <tr>\n",
       "      <th>2</th>\n",
       "      <td>2023-12-31</td>\n",
       "      <td>2.697222</td>\n",
       "    </tr>\n",
       "    <tr>\n",
       "      <th>3</th>\n",
       "      <td>2024-12-31</td>\n",
       "      <td>3.713889</td>\n",
       "    </tr>\n",
       "    <tr>\n",
       "      <th>4</th>\n",
       "      <td>2025-12-31</td>\n",
       "      <td>4.727778</td>\n",
       "    </tr>\n",
       "  </tbody>\n",
       "</table>\n",
       "</div>"
      ],
      "text/plain": [
       "  coupon_dates         t\n",
       "0   2021-12-31  0.669444\n",
       "1   2022-12-31  1.683333\n",
       "2   2023-12-31  2.697222\n",
       "3   2024-12-31  3.713889\n",
       "4   2025-12-31  4.727778"
      ]
     },
     "execution_count": 12,
     "metadata": {},
     "output_type": "execute_result"
    }
   ],
   "source": [
    "get_bond_price_using_yield(\n",
    "    today=\"2021-05-04\", \n",
    "    mat=\"2025-12-31\", \n",
    "    FV=1000, \n",
    "    coupon_rate=0.10, \n",
    "    coupon_freq=1, \n",
    "    y=0.11 \n",
    "    )"
   ]
  },
  {
   "cell_type": "markdown",
   "metadata": {},
   "source": [
    "## Example\n",
    "\n",
    "Suppose today is May 4, 2021. A 10-year corporate bond has $1000 par value, 10\\% coupon bond that pays interest annually, with maturity date on December 31, 2025.  Suppose that the prevailing market yield for the bond is 11\\% compounded continuously. Assume an actual/360 day-count convention.\n",
    "\n",
    "What is the current price of the bond?\n",
    "\n",
    "Without any other information, we assume that the coupons are paid every December 31 (same day as maturity date). \\\n",
    "Also, since it's a 10-year bond whose maturity date is on December 31, 2025, then the bond was issued last December 31, 2015. "
   ]
  },
  {
   "cell_type": "code",
   "execution_count": 4,
   "metadata": {},
   "outputs": [
    {
     "data": {
      "text/plain": [
       "970.72"
      ]
     },
     "execution_count": 4,
     "metadata": {},
     "output_type": "execute_result"
    }
   ],
   "source": [
    "get_bond_price_using_yield(\n",
    "    today='2021-05-04', mat='2025-12-31', FV=1000, coupon_rate=0.1, coupon_freq=1, y=0.11\n",
    "    )"
   ]
  },
  {
   "cell_type": "code",
   "execution_count": 5,
   "metadata": {
    "scrolled": true
   },
   "outputs": [
    {
     "data": {
      "text/html": [
       "<div>\n",
       "<style scoped>\n",
       "    .dataframe tbody tr th:only-of-type {\n",
       "        vertical-align: middle;\n",
       "    }\n",
       "\n",
       "    .dataframe tbody tr th {\n",
       "        vertical-align: top;\n",
       "    }\n",
       "\n",
       "    .dataframe thead th {\n",
       "        text-align: right;\n",
       "    }\n",
       "</style>\n",
       "<table border=\"1\" class=\"dataframe\">\n",
       "  <thead>\n",
       "    <tr style=\"text-align: right;\">\n",
       "      <th></th>\n",
       "      <th>coupon_dates</th>\n",
       "      <th>t</th>\n",
       "      <th>cf</th>\n",
       "      <th>df</th>\n",
       "      <th>pv</th>\n",
       "    </tr>\n",
       "  </thead>\n",
       "  <tbody>\n",
       "    <tr>\n",
       "      <th>0</th>\n",
       "      <td>2021-12-31</td>\n",
       "      <td>0.669444</td>\n",
       "      <td>100.0</td>\n",
       "      <td>0.929007</td>\n",
       "      <td>92.900711</td>\n",
       "    </tr>\n",
       "    <tr>\n",
       "      <th>1</th>\n",
       "      <td>2022-12-31</td>\n",
       "      <td>1.683333</td>\n",
       "      <td>100.0</td>\n",
       "      <td>0.830966</td>\n",
       "      <td>83.096578</td>\n",
       "    </tr>\n",
       "    <tr>\n",
       "      <th>2</th>\n",
       "      <td>2023-12-31</td>\n",
       "      <td>2.697222</td>\n",
       "      <td>100.0</td>\n",
       "      <td>0.743271</td>\n",
       "      <td>74.327109</td>\n",
       "    </tr>\n",
       "    <tr>\n",
       "      <th>3</th>\n",
       "      <td>2024-12-31</td>\n",
       "      <td>3.713889</td>\n",
       "      <td>100.0</td>\n",
       "      <td>0.664628</td>\n",
       "      <td>66.462801</td>\n",
       "    </tr>\n",
       "    <tr>\n",
       "      <th>4</th>\n",
       "      <td>2025-12-31</td>\n",
       "      <td>4.727778</td>\n",
       "      <td>1100.0</td>\n",
       "      <td>0.594488</td>\n",
       "      <td>653.936272</td>\n",
       "    </tr>\n",
       "  </tbody>\n",
       "</table>\n",
       "</div>"
      ],
      "text/plain": [
       "  coupon_dates         t      cf        df          pv\n",
       "0   2021-12-31  0.669444   100.0  0.929007   92.900711\n",
       "1   2022-12-31  1.683333   100.0  0.830966   83.096578\n",
       "2   2023-12-31  2.697222   100.0  0.743271   74.327109\n",
       "3   2024-12-31  3.713889   100.0  0.664628   66.462801\n",
       "4   2025-12-31  4.727778  1100.0  0.594488  653.936272"
      ]
     },
     "execution_count": 5,
     "metadata": {},
     "output_type": "execute_result"
    }
   ],
   "source": [
    "pmt_df"
   ]
  },
  {
   "cell_type": "markdown",
   "metadata": {},
   "source": [
    "# Linear Intepolation\n",
    "\n",
    "Because numpy's interp() function only works when $t\\in[x_1, x_2]$ (as seen in the examples below), we created our own linear interpolation function `linear_interp()`. \n",
    "\n",
    "An alternative to this would be scipy's [`interpolate.interp1d()`](https://docs.scipy.org/doc/scipy/reference/generated/scipy.interpolate.interp1d.html) function where the parameter `fill_value` is set to \"extrapolate\".\n",
    "\n",
    "While we could have performed spline interpolation using all the available zero rates (and not just the two closest available points), we usually just implement linear interpolation in practice for parsimony."
   ]
  },
  {
   "cell_type": "code",
   "execution_count": 17,
   "metadata": {},
   "outputs": [
    {
     "data": {
      "text/plain": [
       "0.1025"
      ]
     },
     "execution_count": 17,
     "metadata": {},
     "output_type": "execute_result"
    }
   ],
   "source": [
    "x = [1,2]\n",
    "y = [0.1025, 0.1033]\n",
    "\n",
    "t = 0.6694\n",
    "\n",
    "np.interp(t,x,y)"
   ]
  },
  {
   "cell_type": "code",
   "execution_count": 19,
   "metadata": {},
   "outputs": [
    {
     "data": {
      "text/plain": [
       "0.10304664"
      ]
     },
     "execution_count": 19,
     "metadata": {},
     "output_type": "execute_result"
    }
   ],
   "source": [
    "x = [1,2]\n",
    "y = [0.1025, 0.1033]\n",
    "\n",
    "t = 1.6833\n",
    "\n",
    "np.interp(t,x,y)"
   ]
  },
  {
   "cell_type": "code",
   "execution_count": 22,
   "metadata": {},
   "outputs": [],
   "source": [
    "def linear_interp(t,x,y):\n",
    "    '''\n",
    "    Linearly interpolates the zero rate for tenor t \n",
    "    using the equation of line determined by the two available points \n",
    "    (x_1,y_1) and (x_2,y_2) whose tenors x_1 and x_2 are nearest to t\n",
    "    \n",
    "    -------\n",
    "    Inputs:\n",
    "    t = tenor of the unknown zero rate \n",
    "    x = list [x_1,x_2]\n",
    "    y = list [y_1,y_2]\n",
    "    '''\n",
    "    m = (y[1]-y[0])/(x[1]-x[0])\n",
    "    \n",
    "    y = y[0] + m*(t-x[0])\n",
    "    \n",
    "    return y"
   ]
  },
  {
   "cell_type": "code",
   "execution_count": 23,
   "metadata": {},
   "outputs": [
    {
     "data": {
      "text/plain": [
       "0.10304664"
      ]
     },
     "execution_count": 23,
     "metadata": {},
     "output_type": "execute_result"
    }
   ],
   "source": [
    "x = [1,2]\n",
    "y = [0.1025, 0.1033]\n",
    "\n",
    "t = 1.6833\n",
    "\n",
    "linear_interp(t,x,y)"
   ]
  },
  {
   "cell_type": "code",
   "execution_count": 24,
   "metadata": {},
   "outputs": [
    {
     "data": {
      "text/plain": [
       "0.10223552"
      ]
     },
     "execution_count": 24,
     "metadata": {},
     "output_type": "execute_result"
    }
   ],
   "source": [
    "x = [1,2]\n",
    "y = [0.1025, 0.1033]\n",
    "\n",
    "t = 0.6694\n",
    "\n",
    "linear_interp(t,x,y)"
   ]
  },
  {
   "cell_type": "code",
   "execution_count": null,
   "metadata": {},
   "outputs": [],
   "source": []
  }
 ],
 "metadata": {
  "kernelspec": {
   "display_name": "Python 3",
   "language": "python",
   "name": "python3"
  },
  "language_info": {
   "codemirror_mode": {
    "name": "ipython",
    "version": 3
   },
   "file_extension": ".py",
   "mimetype": "text/x-python",
   "name": "python",
   "nbconvert_exporter": "python",
   "pygments_lexer": "ipython3",
   "version": "3.8.5"
  }
 },
 "nbformat": 4,
 "nbformat_minor": 5
}
